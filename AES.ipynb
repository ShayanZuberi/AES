{
 "cells": [
  {
   "cell_type": "markdown",
   "id": "0e984a04",
   "metadata": {},
   "source": [
    "# Generate input test vectors."
   ]
  },
  {
   "cell_type": "code",
   "execution_count": 4,
   "id": "7773b37d",
   "metadata": {
    "scrolled": true
   },
   "outputs": [
    {
     "name": "stdout",
     "output_type": "stream",
     "text": [
      "3e61728ec730ca5ba55c7d8e433547f7\n",
      "15f09a8d4e2532f3c4e12dd1d1d76d0d\n",
      "d9d0093d18cba62338fe9493a2094fc\n",
      "8397599f687c539a82ea0625d43174da\n",
      "8b8d739c403dcd997f1f7c60ba5dc49d\n",
      "d7792193661c8d97400dcb2e906d87f4\n",
      "9e136601dab393f49d356027f3052d1c\n",
      "ec685f06e5de6eb79e2b92ece0c7c59f\n",
      "a14ceaac22bbfb109c83294fc3eee9bc\n",
      "2b913c46d092a7e1ce77cc7253022cc\n",
      "abd6f1fbdc0b353119cb8b5dc1e2819a\n",
      "297bee2142f013db9e50d7673177e80e\n",
      "f4b49d42434fe253b2dc8869378213fb\n",
      "ab9f9f63f73d45492e65ee1788e4558\n",
      "87d2354080ec86abc61073659ace88c0\n",
      "73382b02e49c89b34ffdcdbf394afbdc\n",
      "2dd5128983eb722552d5c79a70cfdfda\n",
      "414605c9d7afbb2e1a390bdf0d106a2b\n",
      "77e0d2183cb5c2136b5602b1ebd8a159\n",
      "1f847585b5425259d52f2ebb03a02ad3\n",
      "ed8c51b9c1e8910333729ca15a4c24f2\n",
      "4677d671f818bb97b88bc141241b4eda\n",
      "f2a16170523a1b07cefb9529fee1b21e\n",
      "57de7010ca5637551eb4d5c983963a23\n",
      "5bd23dc38d7a75893a4186793b4e0f6e\n",
      "a928052ca3104e763449555992349df8\n",
      "ab070c5bd6ba774933ec6014df8564e8\n",
      "2a6570472a1cd7df143bf2f6ec218741\n",
      "ba8d974f5c08cfd4a26281c1ca3e70b6\n",
      "7383af5beeac183f30747e6c408cd3cb\n",
      "f4e6dbc154a8b8211103b556e9b0138\n",
      "bc472968f6dd90facaaf2515514bac4f\n",
      "7e2f24d915dc43ccd4a1466f1aebb97f\n",
      "9e3aa515c546e182ca6b8986aac8d417\n",
      "e30743e9e74dbf0d184c1345c631aed4\n",
      "c85923d47392a2168cf871bb9839077e\n",
      "f81d81cce11fb4a407ed6690256ae87f\n",
      "dde72ac925f717143a7ad31660da2695\n",
      "1111180f5320f2664bd5eafeb6bf163\n",
      "874349515f44b33b5ed696fd6ac80c23\n",
      "7397be7625d3fefe8244deda7be4d973\n",
      "fc6771953b2d4d437ad5fcfbdfd9958a\n",
      "e273b7fe2a6ca3533345682354ed34f7\n",
      "49ef6936259a84d5fb2352f2046533c8\n",
      "e6c82f895d4b36fd34b145824079d002\n",
      "a0327766f57b1ea59dd2561376ae254c\n",
      "bb52704b05a14a7ecd556bccf5bab158\n",
      "df911af9dc3072f3243e2a630c99a715\n",
      "d61893f04cfbf51f7b6e3b0a22f2612b\n",
      "7a70e3a8fb86c7b7a79607b42ba8e353\n",
      "728da3cdbc2aec4c2a9ab28eea9eb552\n",
      "aae3b73bf2a1ecca659e2361ee3f435f\n",
      "e251ab214a4a2b583be9ea36ec93c57d\n",
      "b5c570cd7dc0cf84a0e3044fecfeb4a3\n",
      "69414bc73abd31bf6499e03af20ddfe4\n",
      "376f559724a36644c6a44c5ed1a3d55e\n",
      "7e3bcd2b2c7e0b23651d8c843c90e837\n",
      "691c623b83676d40dbdc8f1039190000\n",
      "73c60aa73cc6b54800f5789b0cb6b703\n",
      "aa5e9875648f6eea308dbc179d9e68fe\n",
      "4698d364e01380b7f69af97f50d94934\n",
      "c5641a6298fd6ebaf1f8710aef453c48\n",
      "8c21a950c7406537203267ae81757b0d\n",
      "d164c36c54b7f17a40cfce25a7d56040\n",
      "8f36fac04cd690452959ca0dff552ddd\n",
      "6777b66ec38eba9a350173b14d177f29\n",
      "ae9de38c44a00322ea93203b1298ffdf\n",
      "abbcc43bdb05905ccacb89025d2b3fda\n",
      "f37af19dfaa7be08a2fd36557c048da3\n",
      "556295e782668cffab182e4982c8ea29\n",
      "b26afa73ae22cd315d67c74a1d71e436\n",
      "6a79550dfb4f99ef5bf87678f50fc26f\n",
      "e631ca7350e76e12529ac219b21add55\n",
      "784eaf2f891231abae00c71bb08d57bb\n",
      "8f019556dcbd377eae3a2fde0e3be4ff\n",
      "f0742972c9910d714ce2383dd61b71df\n",
      "b24c8af001ee214bd05936ba6a4492b3\n",
      "99fb9d60bc318cacdee9b95cebd4c790\n",
      "68663b777c9c67bf8a790e136c4e3b2c\n",
      "f504dc08f047e8a76216f8b60be9cdec\n",
      "979c5f8ecf7d3a2a24c62a117dfaf511\n",
      "b0ab4dc28f85d6d322a2d7f4cff28676\n",
      "d49cfbc513cef418019bd74299a33d07\n",
      "f00caf6297faddedcadd4fe55dc17061\n",
      "61bbcfa277971f685ebc42f81aaff2f5\n",
      "320219acd940b2525724685adb0f3710\n",
      "ddf07e46a8044830ba0acdadf97aac39\n",
      "9ff891d23b6ffd73a106108ed1896041\n",
      "31ab2a16f2400b2c017730a057c9b11b\n",
      "2fa8b582f4aeacaa49a1d1315c3029c2\n",
      "8dd81c666927f1cbc15a40666cff58f8\n",
      "197c40f4923e89848f381c92500913d1\n",
      "7e32d3122bf348d36f4985b58926c417\n",
      "3d304605f2b6755e7ba6c18115c6eb2b\n",
      "2a9aa8206771a6b61b6c38344903da76\n",
      "bca7a327e86af9f2fc7445a3b98b057a\n",
      "c27bc36bb2d9c986bf9e8a4fd04168a7\n",
      "239ab8793e5d1544c0ab8b88d395e364\n",
      "f21499f43c655211bfed0d38e3a34e77\n",
      "f56bf81915fb5e5da84c2b2a777b85c4\n"
     ]
    }
   ],
   "source": [
    "import random\n",
    "\n",
    "def hex_number( count, padded=False ):\n",
    "# This currently generates a number of length count hex digits.\n",
    "# Pad on the left with 0's if padded is True:\n",
    "    x = random.randint( 0, 16**count )\n",
    "    hexdig = \"%x\" % x\n",
    "    if padded:\n",
    "        out = hexdig.zfill( count ) # pad with 0 if necessary\n",
    "        return out\n",
    "    else:\n",
    "        return hexdig\n",
    "\n",
    "def AESvectors( size, num, padded ):\n",
    "# generate num vectors (one per line) of size at most count\n",
    "# hex digits\n",
    "    for i in range( num ):\n",
    "        print( hex_number( size, padded ) )\n",
    "# Set the last param to True to pad all lines size hex digits.\n",
    "# The padding is only needed for lines that have leading 0's.\n",
    "\n",
    "AESvectors( size=32, num=100, padded=False )"
   ]
  },
  {
   "cell_type": "code",
   "execution_count": 7,
   "id": "63327684",
   "metadata": {},
   "outputs": [
    {
     "name": "stdout",
     "output_type": "stream",
     "text": [
      "fa\n"
     ]
    }
   ],
   "source": [
    "def hexadecimal(binary):\n",
    "    temp = int(binary, 2)\n",
    "    return format(temp, 'x')\n",
    "print(hexadecimal('11111010'))\n"
   ]
  },
  {
   "cell_type": "code",
   "execution_count": 83,
   "id": "74a549cf",
   "metadata": {},
   "outputs": [],
   "source": [
    "# print(8>>1)\n",
    "sbox = [0x63, 0x7c, 0x77, 0x7b, 0xf2, 0x6b, 0x6f, 0xc5, 0x30, 0x01, 0x67,\n",
    "        0x2b, 0xfe, 0xd7, 0xab, 0x76, 0xca, 0x82, 0xc9, 0x7d, 0xfa, 0x59,\n",
    "        0x47, 0xf0, 0xad, 0xd4, 0xa2, 0xaf, 0x9c, 0xa4, 0x72, 0xc0, 0xb7,\n",
    "        0xfd, 0x93, 0x26, 0x36, 0x3f, 0xf7, 0xcc, 0x34, 0xa5, 0xe5, 0xf1,\n",
    "        0x71, 0xd8, 0x31, 0x15, 0x04, 0xc7, 0x23, 0xc3, 0x18, 0x96, 0x05,\n",
    "        0x9a, 0x07, 0x12, 0x80, 0xe2, 0xeb, 0x27, 0xb2, 0x75, 0x09, 0x83,\n",
    "        0x2c, 0x1a, 0x1b, 0x6e, 0x5a, 0xa0, 0x52, 0x3b, 0xd6, 0xb3, 0x29,\n",
    "        0xe3, 0x2f, 0x84, 0x53, 0xd1, 0x00, 0xed, 0x20, 0xfc, 0xb1, 0x5b,\n",
    "        0x6a, 0xcb, 0xbe, 0x39, 0x4a, 0x4c, 0x58, 0xcf, 0xd0, 0xef, 0xaa,\n",
    "        0xfb, 0x43, 0x4d, 0x33, 0x85, 0x45, 0xf9, 0x02, 0x7f, 0x50, 0x3c,\n",
    "        0x9f, 0xa8, 0x51, 0xa3, 0x40, 0x8f, 0x92, 0x9d, 0x38, 0xf5, 0xbc,\n",
    "        0xb6, 0xda, 0x21, 0x10, 0xff, 0xf3, 0xd2, 0xcd, 0x0c, 0x13, 0xec,\n",
    "        0x5f, 0x97, 0x44, 0x17, 0xc4, 0xa7, 0x7e, 0x3d, 0x64, 0x5d, 0x19,\n",
    "        0x73, 0x60, 0x81, 0x4f, 0xdc, 0x22, 0x2a, 0x90, 0x88, 0x46, 0xee,\n",
    "        0xb8, 0x14, 0xde, 0x5e, 0x0b, 0xdb, 0xe0, 0x32, 0x3a, 0x0a, 0x49,\n",
    "        0x06, 0x24, 0x5c, 0xc2, 0xd3, 0xac, 0x62, 0x91, 0x95, 0xe4, 0x79,\n",
    "        0xe7, 0xc8, 0x37, 0x6d, 0x8d, 0xd5, 0x4e, 0xa9, 0x6c, 0x56, 0xf4,\n",
    "        0xea, 0x65, 0x7a, 0xae, 0x08, 0xba, 0x78, 0x25, 0x2e, 0x1c, 0xa6,\n",
    "        0xb4, 0xc6, 0xe8, 0xdd, 0x74, 0x1f, 0x4b, 0xbd, 0x8b, 0x8a, 0x70,\n",
    "        0x3e, 0xb5, 0x66, 0x48, 0x03, 0xf6, 0x0e, 0x61, 0x35, 0x57, 0xb9,\n",
    "        0x86, 0xc1, 0x1d, 0x9e, 0xe1, 0xf8, 0x98, 0x11, 0x69, 0xd9, 0x8e,\n",
    "        0x94, 0x9b, 0x1e, 0x87, 0xe9, 0xce, 0x55, 0x28, 0xdf, 0x8c, 0xa1,\n",
    "        0x89, 0x0d, 0xbf, 0xe6, 0x42, 0x68, 0x41, 0x99, 0x2d, 0x0f, 0xb0,\n",
    "        0x54, 0xbb, 0x16]\n",
    "rcon = [0x00, 0x01, 0x02, 0x04, 0x08, 0x10, 0x20, 0x40, 0x80, 0x1B, 0x36]"
   ]
  },
  {
   "cell_type": "code",
   "execution_count": 85,
   "id": "f0c3a5ce",
   "metadata": {},
   "outputs": [
    {
     "name": "stdout",
     "output_type": "stream",
     "text": [
      "570d9050818230f0b2fb0d1eb9df659f\n",
      "['57', '0d', '90', '50', '81', '82', '30', 'f0', 'b2', 'fb', '0d', '1e', 'b9', 'df', '65', '9f']\n",
      "Words:  ['570d9050', '818230f0', 'b2fb0d1e', 'b9df659f']\n"
     ]
    }
   ],
   "source": [
    "import re \n",
    "key = open(\"EncryptionKey.key\", \"r\").read()\n",
    "print(key)\n",
    "temp_key = key\n",
    "keyTokens = []\n",
    "while key:\n",
    "    keyTokens.append(key[:2])\n",
    "    key = key[2:]\n",
    "print(keyTokens)\n",
    "key = temp_key\n",
    "w = ['%08x' % int(x, 16) for x in re.findall('.' * 8, temp_key)]\n",
    "print(\"Words: \", w)"
   ]
  },
  {
   "cell_type": "code",
   "execution_count": 114,
   "id": "3a18f509",
   "metadata": {},
   "outputs": [
    {
     "name": "stdout",
     "output_type": "stream",
     "text": [
      "['570d9050', '818230f0', 'b2fb0d1e', 'b9df659f']\n",
      "Word3 in G function:  b9df659f\n",
      "df659fb9\n",
      "9e4ddb56\n"
     ]
    }
   ],
   "source": [
    "COL_SIZE = 4 #constant\n",
    "NUMBER_KEYS = 10 #constant \n",
    "\n",
    "def rotWord(w):\n",
    "    return int(w[2:] + w[0:2], 16)\n",
    "    \n",
    "def SubWord(w):\n",
    "    h = 0xff\n",
    "    sub = 0\n",
    "    sub += sbox[(w >> 24 & h)] << 24\n",
    "    sub += sbox[(w >> 16 & h)] << 16\n",
    "    sub += sbox[(w >> 8 & h)] << 8\n",
    "    sub += sbox[(w & h)]  \n",
    "    return sub\n",
    "    \n",
    "\n",
    "def gFun(w3, roundNo):\n",
    "    print(\"Word3 in G function: \", w3)\n",
    "    \n",
    "    # Perform cyclic left shift \n",
    "    print('%08x' % rotWord(w3))\n",
    "    \n",
    "    # Perform sub word \n",
    "    print('%08x' % SubWord(rotWord(w3))) \n",
    "    \n",
    "    # XOR with Rcon\n",
    "    print('%08x' % (SubWord(rotWord(w3))) ^ (rcon[roundNo // NUMBER_KEYS] << 24) )\n",
    "    \n",
    "def keyGen(key0):\n",
    "    words = ['%08x' % int(x, 16) for x in re.findall('.' * 8, key0)]\n",
    "    print(words)\n",
    "    gFun(w[3], 1) #w3\n",
    "    \n",
    "    \n",
    "keyGen(key)"
   ]
  }
 ],
 "metadata": {
  "kernelspec": {
   "display_name": "Python 3 (ipykernel)",
   "language": "python",
   "name": "python3"
  },
  "language_info": {
   "codemirror_mode": {
    "name": "ipython",
    "version": 3
   },
   "file_extension": ".py",
   "mimetype": "text/x-python",
   "name": "python",
   "nbconvert_exporter": "python",
   "pygments_lexer": "ipython3",
   "version": "3.10.7"
  }
 },
 "nbformat": 4,
 "nbformat_minor": 5
}
