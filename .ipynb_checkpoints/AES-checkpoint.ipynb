{
 "cells": [
  {
   "cell_type": "markdown",
   "id": "0e984a04",
   "metadata": {},
   "source": [
    "# Generate input test vectors."
   ]
  },
  {
   "cell_type": "code",
   "execution_count": 5,
   "id": "7773b37d",
   "metadata": {
    "scrolled": true
   },
   "outputs": [
    {
     "name": "stdout",
     "output_type": "stream",
     "text": [
      "db0bb99fd8aaaeb5cccf4f95cc13dac4\n",
      "dee6c52d933d0c1b1a838cbe0bc1a29f\n",
      "53a76f0a1717fb374c89df17098fd8fc\n",
      "09678b03282515858f873d1ee2057ed5\n",
      "847c259a8029d679bb9eb2295ea9b4a6\n",
      "3a945503b0cea8c1835294e1279367b7\n",
      "345e97598a65d72a9d4b0bf5e5525ee1\n",
      "6182fee5d0f8571a11cf7195c94d3d4b\n",
      "aaf4138443d052cb931b3cabba697678\n",
      "d8d5710eff0033d811cb42f9cea046cc\n",
      "8e5236081b945542b1f35c5eabf42a05\n",
      "5ca9b1f5ad26e6497c1d1087ca3812ac\n",
      "c8d9e0f8e7e9ac005f9544243d3cccda\n",
      "30a07c6a15b8f1105d1c1b4c1c103fc7\n",
      "1bf06e34f1a9df60381bb36a7131e384\n",
      "e86d9c0b8b70c7711858e6a863dfd7ce\n",
      "f162a494ea570df1a99085a15603ebe6\n",
      "222000999b179581e0b36bf597185a01\n",
      "45c204d47da9fef03c185e38a8295db0\n",
      "4a4bab9fdb8c7defa81cd7015d730bdb\n",
      "32ea982640643367cd7d6081203b3590\n",
      "9b40318ba8d5fb7f6c27b69ac953e269\n",
      "f93774f747a2b698629cb2d5649dd44c\n",
      "4a965ee0b6ecbae46b92cf716b80c1de\n",
      "7c56b6392087c39da1990dc7eb20817a\n",
      "5a1fe37ddee4784c8a9efbc8ae8a4601\n",
      "32a02cd20f1744890a52eab337809d33\n",
      "4be7f3e06ce95dc5782a1f320a31b941\n",
      "a7cb52333d001c28d9420b9d4db57c79\n",
      "7c0f1c53ea8668330ad881c958c92f91\n",
      "dcdab847dc1ab1e2484965b60764e0a2\n",
      "7d47719d93074f4ae273034e392d1aff\n",
      "d5ba77bce13bdf2343df63a0f31754ca\n",
      "15e8f5a28bc5139b1aa57b7d418cfe7b\n",
      "da8a0cb17ebcab75157a3bc7c6266842\n",
      "4ec395497cd47614fe85d502ce089116\n",
      "8927b4d275a4bc7769f09c559e282dfc\n",
      "583cdd558b50a201fb33ce8a60c56215\n",
      "735c10f7c8db83b8db8f58dd2261fd2e\n",
      "62485179448bc77882ff117ee1da7071\n",
      "96e02106e8d4ef229c0f41a56c502e71\n",
      "d1dd2a510fc7278c7861d4da3da5d038\n",
      "5cc5482bdb031368d6200ae2706ebb07\n",
      "fdcf1e7b5b88d1efd296b2a85654a913\n",
      "933c1bc8dc91982d63415e3c0e4598fd\n",
      "f230503c0289ef8f6363fc18ea57ca9e\n",
      "aace2a4082e8a02c4420b10a29556c0f\n",
      "dbfc4b323ca9cc8f196d7e3d38d5fe5f\n",
      "4428c310063a4ca95d567ed72b801572\n",
      "217d30a8ca986e564ff72f9f0e8b46d0\n",
      "ccaeaa6f7fe095780f45a3e718d71582\n",
      "08dd710ba19cf95cec8b866dec924fb9\n",
      "7d3a7998308cee48a468f7238c1bc0be\n",
      "5bc9ac600c1a7c948839fda22e2be9ae\n",
      "9447e8939904c62a12cec8703dc93749\n",
      "ea79fc48c9e4bf67287b1ac8f3c5626e\n",
      "bbce500914f11f1d35ad0af7c375d871\n",
      "f37b1026a0a55fb5678d29fd7ca6e05e\n",
      "bef055999e8062428eb6d61124fa1c89\n",
      "384c1f93c67ed272c9a4137e60248c40\n",
      "0fb8114ce2199c70eabad233ebf36cad\n",
      "78e88a0f8f6c102926281d0a83bdea6d\n",
      "4290d389f2a30cbc504b67a3d21e3f1c\n",
      "d281988c01db6b3f511261bee97fda02\n",
      "91d30bbdeba1c14c16aaf2c5a74a28b2\n",
      "ac8ce65671e4a37e9ac3114254753aae\n",
      "0380fc060439a80016dea3acb3adda89\n",
      "ce9b36f6e01e306a264b74dac453f81a\n",
      "48d3ab32877c186c368ce5ccc471a905\n",
      "3802c7b12eb3a0feb94f0698fb1868c9\n",
      "28a58d72349a9c08fd5e9ec96a2681e4\n",
      "8eae00c1b6bf52f1bbaa22b1fd331c02\n",
      "8e35275a3ec1c108003eadb3a11c9344\n",
      "880f19980c150092b2cd67c36f30b81f\n",
      "a6529e299673ab892371b85d401e2cc2\n",
      "0749ed154ac0e93ccc77eac86c1efb5c\n",
      "71a55cc3c68263a6507cd843a615deaf\n",
      "a9ef5dc6f9988c0ff2f206de6613da1b\n",
      "1da318d167e78f479e739c2226e2b4a9\n",
      "0cea9fe32ce427afb6abf0f877e4c42e\n",
      "82bbee7c7cbf641c87046766f28ff168\n",
      "0e6f9abca77ce8c7c05dd83a2e099c4f\n",
      "8dbe0eac39164e71249bbe7d3bf9dfa8\n",
      "c92637d3b1d3de64d60a5b20ba1c3f6b\n",
      "a049ae7134ba8b4d364ca2d11a0647a6\n",
      "10667b345a07f94927ae902170d00d92\n",
      "4a83ab4ed4ff22a36a1a4d949d4062fb\n",
      "d55acfe4142fa32e8a77978a11708b01\n",
      "8e8ea1624a0796f5c395ef4db17fb718\n",
      "84197b8d0f3ee1dcb8cced6147ac39cd\n",
      "5e88ba41fa6b298d4ee59df4153aee89\n",
      "8f3130c8e67f8d0aa1b6ebe420a62049\n",
      "ad7ea2126053ecfb805ec1abe0c74346\n",
      "702af55daed793531e72b5b8e25d0200\n",
      "a79caca581b99d78fea8f2e99b740345\n",
      "b1e2c6aeea28bbce689a1279be7206f5\n",
      "46944ce646d656c892492701869ecb27\n",
      "96ce54ebc713554b841a6fcd07c9fa37\n",
      "f94c2f9c167e01a5f20c0fa2838652e9\n",
      "23da9304cd9afe5357e4c74222ea955e\n"
     ]
    }
   ],
   "source": [
    "import random\n",
    "\n",
    "def hex_number( count, padded=False ):\n",
    "# This currently generates a number of length count hex digits.\n",
    "# Pad on the left with 0's if padded is True:\n",
    "    x = random.randint( 0, 16**count )\n",
    "    hexdig = \"%x\" % x\n",
    "    if padded:\n",
    "        out = hexdig.zfill( count ) # pad with 0 if necessary\n",
    "        return out\n",
    "    else:\n",
    "        return hexdig\n",
    "\n",
    "def AESvectors( size, num, padded ):\n",
    "# generate num vectors (one per line) of size at most count\n",
    "# hex digits\n",
    "    for i in range( num ):\n",
    "        print( hex_number( size, padded ) )\n",
    "# Set the last param to True to pad all lines size hex digits.\n",
    "# The padding is only needed for lines that have leading 0's.\n",
    "\n",
    "AESvectors( size=32, num=100, padded=False )"
   ]
  },
  {
   "cell_type": "code",
   "execution_count": 13,
   "id": "63327684",
   "metadata": {},
   "outputs": [
    {
     "name": "stdout",
     "output_type": "stream",
     "text": [
      "f\n"
     ]
    }
   ],
   "source": [
    "def hexadecimal(binary):\n",
    "    temp = int(binary, 2)\n",
    "    return format(temp, 'x')\n",
    "print(hexadecimal('1111'))"
   ]
  }
 ],
 "metadata": {
  "kernelspec": {
   "display_name": "Python 3 (ipykernel)",
   "language": "python",
   "name": "python3"
  },
  "language_info": {
   "codemirror_mode": {
    "name": "ipython",
    "version": 3
   },
   "file_extension": ".py",
   "mimetype": "text/x-python",
   "name": "python",
   "nbconvert_exporter": "python",
   "pygments_lexer": "ipython3",
   "version": "3.10.7"
  }
 },
 "nbformat": 4,
 "nbformat_minor": 5
}
